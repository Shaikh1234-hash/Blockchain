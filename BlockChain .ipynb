{
 "cells": [
  {
   "cell_type": "code",
   "execution_count": 13,
   "metadata": {},
   "outputs": [],
   "source": [
    "import hashlib as hasher\n",
    "import datetime as date\n",
    "\n",
    "# Define what a Snakecoin block is\n",
    "class Block:\n",
    "#Use the __init__() function to assign values to object properties\n",
    "\n",
    "  def __init__(self, index, timestamp, data, previous_hash):\n",
    "    self.index = index\n",
    "    self.timestamp = timestamp\n",
    "    self.data = data\n",
    "    self.previous_hash = previous_hash\n",
    "    self.hash = self.hash_block()\n",
    "    \n",
    "#repr() function returns a printable representation of the given object\n",
    "  def __repr__(self):\n",
    "#converting all variable from init function to string\n",
    "    return \"%04d: %s, %s : %s\" % (self.index,str(self.timestamp),str(self.data),str(self.previous_hash))\n",
    "\n",
    "  def hash_block(self):\n",
    "#Making pipeline for hasher function, and store it to sah variable\n",
    "    sha = hasher.sha256()\n",
    "#Making 1st pipeline for sah object with update method ,2nd pipeline for update method is encode method.\n",
    "    sha.update(repr(self).encode('ascii',errors=\"replace\"))\n",
    "    return sha.hexdigest()"
   ]
  },
  {
   "cell_type": "code",
   "execution_count": 14,
   "metadata": {},
   "outputs": [],
   "source": [
    "# Generate genesis block\n",
    "def create_genesis_block():\n",
    "  # Manually construct a block with\n",
    "  # index zero and arbitrary previous hash\n",
    "  return Block(0, date.datetime.now(), \"Genesis Block\", \"0\")"
   ]
  },
  {
   "cell_type": "code",
   "execution_count": 15,
   "metadata": {},
   "outputs": [
    {
     "data": {
      "text/plain": [
       "[0000: 2022-06-03 21:20:22.425112, Genesis Block : 0]"
      ]
     },
     "execution_count": 15,
     "metadata": {},
     "output_type": "execute_result"
    }
   ],
   "source": [
    "# Create the blockchain instance from Block class ,and assign the genesis block to this instance.\n",
    "blockchain = [create_genesis_block()]\n",
    "previous_block = blockchain[0]\n",
    "# Showing the blockchain 1st item which is genesis block values.\n",
    "blockchain"
   ]
  },
  {
   "cell_type": "code",
   "execution_count": 16,
   "metadata": {},
   "outputs": [],
   "source": [
    "# Generate all later blocks in the blockchain\n",
    "def next_block(last_block):\n",
    "#creating new index by adding genesisblock+1  \n",
    "  this_index = last_block.index + 1\n",
    "  this_timestamp = date.datetime.now()\n",
    "#creating new data of string by adding genesisblock string+new string\n",
    "  this_data = \"Hey! I'm block \" + str(this_index)\n",
    "  this_hash = last_block.hash\n",
    "  return Block(this_index, this_timestamp, this_data, this_hash)"
   ]
  },
  {
   "cell_type": "code",
   "execution_count": 17,
   "metadata": {},
   "outputs": [
    {
     "name": "stdout",
     "output_type": "stream",
     "text": [
      "Block #1 has been added to the blockchain!\n",
      "Hash: 45f7aae4c3c64218e342ab9bc0b9d0d90dab347620af0bec3219bfcef33fcc61\n",
      "\n",
      "Block #2 has been added to the blockchain!\n",
      "Hash: 09b97f7542e8962c15e2b96016cf4987e8e4d3bd494e5723a156d3d0109f790e\n",
      "\n",
      "Block #3 has been added to the blockchain!\n",
      "Hash: 0ee8647cecc1a9515b69203c9111d6cdedebe82ee946d6cde5b4e85ee3c07268\n",
      "\n",
      "Block #4 has been added to the blockchain!\n",
      "Hash: 040be8860a4508f9634040ab214e6bcd13342c622a2fad42e9f5bda9c12536d4\n",
      "\n",
      "Block #5 has been added to the blockchain!\n",
      "Hash: 186edff53f768715910ed458207cd1804fcd8d4854a018e0fd1313abe11c0aa6\n",
      "\n",
      "Block #6 has been added to the blockchain!\n",
      "Hash: 50018c0811dd78ac7c5df329326ee883ad0f86c67afc1d890bd6b2f5071c1aa3\n",
      "\n",
      "Block #7 has been added to the blockchain!\n",
      "Hash: c468cfe6e18203a128f32b32bdcc358af31387748396cfd9b019684e9ccbbfd3\n",
      "\n",
      "Block #8 has been added to the blockchain!\n",
      "Hash: 9d59b6d02966cf5f6b74d1028e0ae9ab9b3ee19620bb49ea8428f3e5e8df2d6f\n",
      "\n",
      "Block #9 has been added to the blockchain!\n",
      "Hash: 6b8bc3a90ba684b53d922f2886cc37422ccf62516b2aad2243f81db94960ec74\n",
      "\n",
      "Block #10 has been added to the blockchain!\n",
      "Hash: da2c0d1abfc70957693a1c82789b2cd68d8a06cf71d67be542c61bfc0e042fb8\n",
      "\n",
      "Block #11 has been added to the blockchain!\n",
      "Hash: e0941f232b9662d56daa5a87ec39a1d9343c016c6f860f96ce4906cb88a0b161\n",
      "\n",
      "Block #12 has been added to the blockchain!\n",
      "Hash: 4a5c6609f12f0683efeb24bf6dedc821a0a6fa7a5b1c6fcb359d1a634dd57252\n",
      "\n",
      "Block #13 has been added to the blockchain!\n",
      "Hash: bf47cb0fd7153f6b4b16389471317a813bc3baaeaae99739f6038ae18beb3f8d\n",
      "\n",
      "Block #14 has been added to the blockchain!\n",
      "Hash: 2b2adf824876a989319185b1e732bdfb5b167cd69e9119d2e4b83f87f4f7f804\n",
      "\n",
      "Block #15 has been added to the blockchain!\n",
      "Hash: 40c9c165c4a0986350ee56c426402a5e9c0cd7324fe1b16528db4b429020d6bf\n",
      "\n",
      "Block #16 has been added to the blockchain!\n",
      "Hash: 122197b76334625c2bf3bf6d36fedbc469e92b4367380b83314c04a779d8965a\n",
      "\n",
      "Block #17 has been added to the blockchain!\n",
      "Hash: 2a9d69235e45697f48e1ba4cc51732b8585bb1068389d8cb3be41fdb24df2dc0\n",
      "\n",
      "Block #18 has been added to the blockchain!\n",
      "Hash: 81185e350f9bac92f219e7fb728c387539006266837b730c66f324f3371f1997\n",
      "\n",
      "Block #19 has been added to the blockchain!\n",
      "Hash: 361c01dac4139f5f9670732990e393d626b30a0142ec6f167125b60aa6e4d955\n",
      "\n",
      "Block #20 has been added to the blockchain!\n",
      "Hash: 31d1fec511e848aab6f794f3bdb8bbf3ff31d2359dc134cd2176d7f3c7335415\n",
      "\n"
     ]
    }
   ],
   "source": [
    "# How many blocks should we add to the chain\n",
    "# after the genesis block\n",
    "num_of_blocks_to_add = 20\n",
    "\n",
    "# Add blocks to the chain\n",
    "for i in range(0, num_of_blocks_to_add):\n",
    "  block_to_add = next_block(previous_block)\n",
    "#adding new block with append function.\n",
    "  blockchain.append(block_to_add)\n",
    "#creating previous block  with  block_to_add instance.  \n",
    "  previous_block = block_to_add\n",
    "  # showing the block chain\n",
    "  print(\"Block #{} has been added to the blockchain!\".format(block_to_add.index))\n",
    "  print(\"Hash: {}\\n\".format(block_to_add.hash))"
   ]
  },
  {
   "cell_type": "code",
   "execution_count": null,
   "metadata": {},
   "outputs": [],
   "source": []
  }
 ],
 "metadata": {
  "kernelspec": {
   "display_name": "Python 3",
   "language": "python",
   "name": "python3"
  },
  "language_info": {
   "codemirror_mode": {
    "name": "ipython",
    "version": 3
   },
   "file_extension": ".py",
   "mimetype": "text/x-python",
   "name": "python",
   "nbconvert_exporter": "python",
   "pygments_lexer": "ipython3",
   "version": "3.8.5"
  }
 },
 "nbformat": 4,
 "nbformat_minor": 4
}
